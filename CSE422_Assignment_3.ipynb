{
  "nbformat": 4,
  "nbformat_minor": 0,
  "metadata": {
    "colab": {
      "name": "CSE422_Assignment_3.ipynb",
      "provenance": [],
      "collapsed_sections": [],
      "authorship_tag": "ABX9TyMG73ZxPypviMVQyMrGInEW",
      "include_colab_link": true
    },
    "kernelspec": {
      "name": "python3",
      "display_name": "Python 3"
    },
    "language_info": {
      "name": "python"
    }
  },
  "cells": [
    {
      "cell_type": "markdown",
      "metadata": {
        "id": "view-in-github",
        "colab_type": "text"
      },
      "source": [
        "<a href=\"https://colab.research.google.com/github/Rafsan7238/CSE422_Lab/blob/main/CSE422_Assignment_3.ipynb\" target=\"_parent\"><img src=\"https://colab.research.google.com/assets/colab-badge.svg\" alt=\"Open In Colab\"/></a>"
      ]
    },
    {
      "cell_type": "markdown",
      "metadata": {
        "id": "ZPjKjozryYzU"
      },
      "source": [
        "# **CSE422 Lab Assignment-3**\n",
        "## **Alpha-Beta Pruning**"
      ]
    },
    {
      "cell_type": "code",
      "metadata": {
        "id": "mU1FfDtiyJ4F"
      },
      "source": [
        "import math\n",
        "import random"
      ],
      "execution_count": 2,
      "outputs": []
    },
    {
      "cell_type": "markdown",
      "metadata": {
        "id": "cWPrcuNGzHXw"
      },
      "source": [
        "### **MiniMax Algorithm with Alpha-Beta Prunigng**"
      ]
    },
    {
      "cell_type": "code",
      "metadata": {
        "id": "ovStJ4IU1ez5"
      },
      "source": [
        "state_space = dict()\n",
        "branching_factor = 0\n",
        "after_pruning_count = 0"
      ],
      "execution_count": 41,
      "outputs": []
    },
    {
      "cell_type": "code",
      "metadata": {
        "id": "jCwkNjvyzGiY"
      },
      "source": [
        "def minimax(position, depth, alpha, beta, maximising_player):\n",
        "  '''\n",
        "  This method will run the minimax algorithm with alpha-beta pruning\n",
        "  and return the maximum score possible for the maximising player.\n",
        "  '''\n",
        "\n",
        "  global after_pruning_count\n",
        "  global state_space\n",
        "  global branching_factor\n",
        "\n",
        "  if depth == 0:\n",
        "    after_pruning_count += 1\n",
        "    return state_space[position]\n",
        "\n",
        "  if maximising_player:\n",
        "    max_eval = float('-inf')\n",
        "\n",
        "    for child in range((branching_factor * position) + 1, (branching_factor * position) + 1 + branching_factor):\n",
        "      eval = minimax(child, depth - 1, alpha, beta, False)\n",
        "      max_eval = max(max_eval, eval)\n",
        "\n",
        "      alpha = max(alpha, eval)\n",
        "\n",
        "      if beta <= alpha:\n",
        "        break\n",
        "\n",
        "    state_space[position] = alpha\n",
        "\n",
        "    return max_eval\n",
        "\n",
        "  else:\n",
        "    min_eval = float('inf')\n",
        "\n",
        "    for child in range((branching_factor * position) + 1, (branching_factor * position) + 1 + branching_factor):\n",
        "      eval = minimax(child, depth - 1, alpha, beta, True)\n",
        "      min_eval = min(min_eval, eval)\n",
        "\n",
        "      beta = min(beta, eval)\n",
        "\n",
        "      if beta <= alpha:\n",
        "        break\n",
        "\n",
        "      \n",
        "    state_space[position] = beta\n",
        "\n",
        "    return min_eval\n"
      ],
      "execution_count": 36,
      "outputs": []
    },
    {
      "cell_type": "code",
      "metadata": {
        "colab": {
          "base_uri": "https://localhost:8080/"
        },
        "id": "lx5_SoUx7YXZ",
        "outputId": "5fb571fd-47f9-46ae-cb29-54bfac8d9e52"
      },
      "source": [
        "turn = int(input(\"Enter turns: \"))\n",
        "branching_factor = int(input(\"Enter branching factor: \"))\n",
        "val_range = list(map(int, input(\"Enter range of leaf values: \").split(\" \")))\n",
        "\n",
        "depth = 2 * turn\n",
        "leaf_nodes = branching_factor ** depth\n",
        "\n",
        "total_nodes = leaf_nodes\n",
        "\n",
        "for level in range(0, depth):\n",
        "  nodes = branching_factor ** level\n",
        "  total_nodes += nodes\n",
        "\n",
        "for node in range(total_nodes - leaf_nodes, total_nodes):\n",
        "  state_space[node] = random.randint(val_range[0], val_range[1])\n",
        "\n",
        "max_score = minimax(0, depth, float('-inf'), float('inf'), True)\n",
        "\n",
        "print(f\"\\nDepth: {depth}\")\n",
        "print(f\"Branch: {branching_factor}\")\n",
        "print(f\"Terminal States (Leaf Nodes): {leaf_nodes}\")\n",
        "print(f\"Maximum amount: {max_score}\")\n",
        "print(f\"Comparisons before alpha-beta pruning: {leaf_nodes}\")\n",
        "print(f\"Comparisons after alpha-beta pruning: {after_pruning_count}\")"
      ],
      "execution_count": 42,
      "outputs": [
        {
          "output_type": "stream",
          "text": [
            "Enter turns: 1\n",
            "Enter branching factor: 3\n",
            "Enter range of leaf values: 1 20\n",
            "\n",
            "Depth: 2\n",
            "Branch: 3\n",
            "Terminal States (Leaf Nodes): 9\n",
            "Maximum amount: 7\n",
            "Comparisons before alpha-beta pruning: 9\n",
            "Comparisons after alpha-beta pruning: 6\n"
          ],
          "name": "stdout"
        }
      ]
    }
  ]
}