{
  "nbformat": 4,
  "nbformat_minor": 0,
  "metadata": {
    "colab": {
      "name": "CSE422 Assignment-1.ipynb",
      "provenance": [],
      "authorship_tag": "ABX9TyOP3KI4Cd8DgaYJZPhZewXp",
      "include_colab_link": true
    },
    "kernelspec": {
      "name": "python3",
      "display_name": "Python 3"
    },
    "language_info": {
      "name": "python"
    }
  },
  "cells": [
    {
      "cell_type": "markdown",
      "metadata": {
        "id": "view-in-github",
        "colab_type": "text"
      },
      "source": [
        "<a href=\"https://colab.research.google.com/github/Rafsan7238/CSE422_Lab/blob/main/CSE422_Assignment_1.ipynb\" target=\"_parent\"><img src=\"https://colab.research.google.com/assets/colab-badge.svg\" alt=\"Open In Colab\"/></a>"
      ]
    },
    {
      "cell_type": "markdown",
      "metadata": {
        "id": "rtIcxcQ5De0C"
      },
      "source": [
        "## **Methods for Tasks 1 and 2**"
      ]
    },
    {
      "cell_type": "code",
      "metadata": {
        "id": "Ppk0uLpNDU81"
      },
      "source": [
        "import numpy as np\n",
        "\n",
        "def get_map():\n",
        "  '''\n",
        "  This method would ask the user for inputs of the map of the contest and form a numpy array (adjacency matrix). \n",
        "  The matrix would store 1 if there is a connection between any two nodes (undirected) and 0 otherwise. \n",
        "  The method would then return the adjacency matrix.\n",
        "  '''\n",
        "\n",
        "  map_size = int(input(\"Enter fixed positions: \").strip())\n",
        "\n",
        "  adj_matrix = np.zeros((map_size, map_size), dtype=int)\n",
        "\n",
        "  connections = int(input(\"Enter no. of connections: \").strip())\n",
        "\n",
        "  for index in range (0, connections):\n",
        "    input_data = (input().strip()).split(\" \")\n",
        "\n",
        "    # Convert the data into integer values\n",
        "    input_data = list(map(int, input_data))\n",
        "    node1, node2 = input_data[0], input_data[1]\n",
        "\n",
        "    adj_matrix[node1, node2] = 1\n",
        "    adj_matrix[node2, node1] = 1\n",
        "\n",
        "  return adj_matrix\n",
        "\n",
        "\n",
        "def BFS(adj_matrix, start, goal):\n",
        "  '''\n",
        "  This method would perform BFS on the adj_matrix to find the shortest path from\n",
        "  start to goal. The method would return 'path_cost' from start to goal. \n",
        "  '''\n",
        "\n",
        "  # Initialise a 'parents' dictionary to keep track of parents of nodes. \n",
        "\n",
        "  parents = dict()\n",
        "  parents[start] = None # parent of 'start' is null\n",
        "\n",
        "  # Initialise a 'visited' list to keep track of nodes already visited. \n",
        "\n",
        "  visited = []\n",
        "\n",
        "  # Initialise a queue to store next nodes to visit, starting with 'start' node. \n",
        "\n",
        "  queue = [start]\n",
        "\n",
        "  # Perform BFS\n",
        "\n",
        "  arr_size = len(adj_matrix[0])\n",
        "  path_cost = -1\n",
        "  found = False\n",
        "\n",
        "  while len(queue)!=0:\n",
        "\n",
        "    current_node = queue.pop(0)\n",
        "    visited.append(current_node)\n",
        "\n",
        "    for node in range(0, arr_size):\n",
        "      edge = adj_matrix[current_node, node]\n",
        "\n",
        "      # If there is an edge between 'current_node' and 'node', the node has not been visited and not in 'queue'\n",
        "\n",
        "      if edge==1 and node not in visited and node not in queue:\n",
        "        parents[node] = current_node\n",
        "\n",
        "        # If the 'node' is the goal, find the cost of path from start to goal, and break from loop\n",
        "\n",
        "        if node == goal:\n",
        "          path_cost = find_path_cost(parents, start, node)\n",
        "          found = True\n",
        "          break\n",
        "\n",
        "        # Else add the 'node' in 'queue' to be visited later. \n",
        "\n",
        "        else: \n",
        "          queue.append(node)\n",
        "\n",
        "      \n",
        "    if(found):\n",
        "      break\n",
        "\n",
        "  return path_cost\n",
        "\n",
        "\n",
        "def find_path_cost(parents, start, goal):\n",
        "  '''\n",
        "  The method finds the cost of path between 'start' node and the 'goal' node and returns it. \n",
        "  '''\n",
        "\n",
        "  path_cost = 0\n",
        "\n",
        "  current_node = goal\n",
        "\n",
        "  while current_node!=start:\n",
        "    current_node = parents[current_node]\n",
        "    path_cost += 1\n",
        "\n",
        "  \n",
        "  return path_cost"
      ],
      "execution_count": null,
      "outputs": []
    },
    {
      "cell_type": "markdown",
      "metadata": {
        "id": "mHkBSgchPj30"
      },
      "source": [
        "# **Task-1**"
      ]
    },
    {
      "cell_type": "code",
      "metadata": {
        "colab": {
          "base_uri": "https://localhost:8080/"
        },
        "id": "RWiDoETtPmcc",
        "outputId": "e5a880e5-7285-4917-b118-d5abaa4ef44d"
      },
      "source": [
        "contest_map = get_map()\n",
        "\n",
        "Lina = int(input(\"Enter Lina's position: \").strip())\n",
        "\n",
        "cost = BFS(contest_map, 0, Lina)\n",
        "\n",
        "print(cost)"
      ],
      "execution_count": null,
      "outputs": [
        {
          "output_type": "stream",
          "text": [
            "Enter fixed positions: 9\n",
            "Enter no. of connections: 13\n",
            "0 1\n",
            "0 2\n",
            "0 3\n",
            "1 3\n",
            "1 4\n",
            "2 3\n",
            "3 5\n",
            "3 6\n",
            "4 8\n",
            "4 7\n",
            "5 6\n",
            "6 7\n",
            "7 8\n",
            "Enter Lina's position: 6\n",
            "2\n"
          ],
          "name": "stdout"
        }
      ]
    },
    {
      "cell_type": "markdown",
      "metadata": {
        "id": "lcZlfjcrRctm"
      },
      "source": [
        "# **Task-2**"
      ]
    },
    {
      "cell_type": "code",
      "metadata": {
        "colab": {
          "base_uri": "https://localhost:8080/"
        },
        "id": "f1O-_Tc7RgIK",
        "outputId": "f6169d43-93e8-43bc-bb60-438089555fab"
      },
      "source": [
        "contest_map = get_map()\n",
        "\n",
        "Lina = int(input(\"Enter Lina's position: \").strip())\n",
        "Nora = int(input(\"Enter Nora's position: \").strip())\n",
        "Lara = int(input(\"Enter Lara's position: \").strip())\n",
        "\n",
        "cost_Nora = BFS(contest_map, Nora, Lina)\n",
        "cost_Lara = BFS(contest_map, Lara, Lina)\n",
        "\n",
        "if cost_Nora < cost_Lara:\n",
        "  print(\"Nora\")\n",
        "\n",
        "elif cost_Lara < cost_Nora:\n",
        "  print(\"Lara\")\n",
        "\n",
        "else:\n",
        "  print(\"both\")"
      ],
      "execution_count": null,
      "outputs": [
        {
          "output_type": "stream",
          "text": [
            "Enter fixed positions: 9\n",
            "Enter no. of connections: 12\n",
            "0 1\n",
            "0 2\n",
            "0 3\n",
            "1 3\n",
            "1 4\n",
            "2 3\n",
            "3 5\n",
            "4 8\n",
            "4 7\n",
            "5 6\n",
            "6 7\n",
            "7 8\n",
            "Enter Lina's position: 7\n",
            "Enter Nora's position: 5\n",
            "Enter Lara's position: 3\n",
            "Nora\n"
          ],
          "name": "stdout"
        }
      ]
    },
    {
      "cell_type": "markdown",
      "metadata": {
        "id": "gS1sSANgTWm1"
      },
      "source": [
        "# **Methods for Task-3**"
      ]
    },
    {
      "cell_type": "code",
      "metadata": {
        "id": "8fqJfIn4TbgQ"
      },
      "source": [
        "def get_reverse_map():\n",
        "  '''\n",
        "  This method would ask the user for inputs of the map of the contest and form a numpy array (adjacency matrix). \n",
        "  The matrix would store 1 if there is a connection between any two nodes (in reverse direction) and 0 otherwise. \n",
        "  The method would then return the adjacency matrix.\n",
        "  '''\n",
        "\n",
        "  map_size = int(input(\"Enter fixed positions: \").strip())\n",
        "\n",
        "  adj_matrix = np.zeros((map_size, map_size), dtype=int)\n",
        "\n",
        "  connections = int(input(\"Enter no. of connections: \").strip())\n",
        "\n",
        "  for index in range (0, connections):\n",
        "    input_data = (input().strip()).split(\" \")\n",
        "\n",
        "    # Convert the data into integer values\n",
        "    input_data = list(map(int, input_data))\n",
        "\n",
        "    node1, node2 = input_data[0], input_data[1]\n",
        "    adj_matrix[node2, node1] = 1\n",
        "\n",
        "  return adj_matrix\n",
        "\n",
        "\n",
        "def find_depth(adj_matrix, goal):\n",
        "  '''\n",
        "  This method would use BFS algorithm to find the depth of each node starting from the 'goal' node. \n",
        "  This method would return a 'depth' dictionary containing the depth of each node from 'goal' node. \n",
        "  '''\n",
        "\n",
        "  # Initialise a 'depth' dictionary to keep track of depths of each node. \n",
        "\n",
        "  depth = dict()\n",
        "  depth[goal] = 0\n",
        "\n",
        "  # Initialise a 'visited' list to keep track of nodes already visited. \n",
        "\n",
        "  visited = []\n",
        "\n",
        "  # Initialise a queue to store next nodes to visit, starting with 'start' node. \n",
        "\n",
        "  queue = [goal]\n",
        "\n",
        "  # Perform BFS\n",
        "\n",
        "  arr_size = len(adj_matrix[0])\n",
        "\n",
        "  while len(queue)!=0:\n",
        "\n",
        "    current_node = queue.pop(0)\n",
        "    visited.append(current_node)\n",
        "\n",
        "    for node in range(0, arr_size):\n",
        "      edge = adj_matrix[current_node, node]\n",
        "\n",
        "      # If there is an edge between 'current_node' and 'node', the node has not been visited and not in 'queue'\n",
        "\n",
        "      if edge==1 and node not in visited and node not in queue:\n",
        "        depth[node] = depth[current_node] + 1\n",
        "        queue.append(node)\n",
        "\n",
        "  \n",
        "  return depth"
      ],
      "execution_count": null,
      "outputs": []
    },
    {
      "cell_type": "markdown",
      "metadata": {
        "id": "DKICFvijZd3E"
      },
      "source": [
        "# **Task-3**"
      ]
    },
    {
      "cell_type": "code",
      "metadata": {
        "colab": {
          "base_uri": "https://localhost:8080/"
        },
        "id": "HNRMo-vXZc_S",
        "outputId": "83758f85-348a-42fb-8142-6661014bec42"
      },
      "source": [
        "contest_map = get_reverse_map()\n",
        "\n",
        "Lina = int(input(\"Enter Lina's position: \").strip())\n",
        "\n",
        "participants = int(input(\"Enter no. of participants: \").strip())\n",
        "\n",
        "positions = []\n",
        "\n",
        "min_cost = float('inf')\n",
        "\n",
        "for i in range(0, participants):\n",
        "  position = int(input().strip())\n",
        "  positions.append(position)\n",
        "\n",
        "costs = find_depth(contest_map, Lina)\n",
        "\n",
        "for position in positions:\n",
        "  if costs[position] < min_cost:\n",
        "    min_cost = costs[position]\n",
        "\n",
        "print(min_cost)"
      ],
      "execution_count": null,
      "outputs": [
        {
          "output_type": "stream",
          "text": [
            "Enter fixed positions: 10\n",
            "Enter no. of connections: 14\n",
            "0 1\n",
            "0 2\n",
            "0 3\n",
            "1 3\n",
            "1 4\n",
            "2 3\n",
            "3 5\n",
            "4 7\n",
            "4 8\n",
            "5 6\n",
            "6 7\n",
            "6 9\n",
            "7 8\n",
            "8 9\n",
            "Enter Lina's position: 9\n",
            "Enter no. of participants: 5\n",
            "0\n",
            "1\n",
            "3\n",
            "5\n",
            "7\n",
            "2\n"
          ],
          "name": "stdout"
        }
      ]
    }
  ]
}